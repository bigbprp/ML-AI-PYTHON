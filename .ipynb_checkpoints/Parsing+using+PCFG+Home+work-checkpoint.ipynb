{
 "cells": [
  {
   "cell_type": "code",
   "execution_count": 4,
   "metadata": {},
   "outputs": [],
   "source": [
    "import nltk"
   ]
  },
  {
   "cell_type": "code",
   "execution_count": 5,
   "metadata": {},
   "outputs": [],
   "source": [
    "#define the grammar for pcfg\n",
    "pcfg_grammar = nltk.PCFG.fromstring(\"\"\"\n",
    "    S -> NP VP [1.0] \n",
    "    PP -> P NP [1.0]\n",
    "    VP -> V NP [0.7] | VP PP [0.3] \n",
    "    NP -> NP PP [0.4] \n",
    "    P -> 'with' [1.0]\n",
    "    V -> 'saw' [1.0]\n",
    "    NP -> 'astronomers' [0.1] | 'ears' [0.18] | 'saw' [0.04] | 'stars' [0.18] | 'telescopes' [0.1]\n",
    "    \"\"\")"
   ]
  },
  {
   "cell_type": "code",
   "execution_count": 6,
   "metadata": {},
   "outputs": [],
   "source": [
    "str = \"astronomers saw stars with ears\""
   ]
  },
  {
   "cell_type": "code",
   "execution_count": 7,
   "metadata": {},
   "outputs": [
    {
     "name": "stdout",
     "output_type": "stream",
     "text": [
      "(S\n",
      "  (NP astronomers)\n",
      "  (VP (V saw) (NP (NP stars) (PP (P with) (NP ears))))) (p=0.0009072)\n",
      "(S\n",
      "  (NP astronomers)\n",
      "  (VP (VP (V saw) (NP stars)) (PP (P with) (NP ears)))) (p=0.0006804)\n"
     ]
    }
   ],
   "source": [
    "from nltk.parse import pchart\n",
    "\n",
    "parser = pchart.InsideChartParser(pcfg_grammar)\n",
    "\n",
    "#print all possible trees, showing probability of each parse\n",
    "for t in parser.parse(str.split()):\n",
    "     print(t)"
   ]
  },
  {
   "cell_type": "code",
   "execution_count": 8,
   "metadata": {},
   "outputs": [],
   "source": [
    "str1 =\"the man saw a dog in the park with a telescope\""
   ]
  },
  {
   "cell_type": "code",
   "execution_count": 9,
   "metadata": {},
   "outputs": [],
   "source": [
    "#define the grammar for pcfg\n",
    "pcfg_grammar1 = nltk.PCFG.fromstring(\"\"\"\n",
    "S -> NP VP [1.0]\n",
    "NP -> Det N [0.7] | Det N PP [0.3]\n",
    "VP -> V [0.4] | V NP [0.4] |V NP PP [0.2]\n",
    "PP -> P NP [1.0]\n",
    "Det -> 'a' [0.4]| 'the' [0.6]\n",
    "N -> 'man' [0.5] | 'dog'  [0.3]| 'park' [0.1]| 'telescope' [0.1]\n",
    "V -> 'saw' [1.0]\n",
    "P -> 'with' [0.6]| 'in' [0.4]\n",
    "    \"\"\")"
   ]
  },
  {
   "cell_type": "code",
   "execution_count": 11,
   "metadata": {},
   "outputs": [
    {
     "name": "stdout",
     "output_type": "stream",
     "text": [
      "(S\n",
      "  (NP (Det the) (N man))\n",
      "  (VP\n",
      "    (V saw)\n",
      "    (NP\n",
      "      (Det a)\n",
      "      (N dog)\n",
      "      (PP (P in) (NP (Det the) (N park))))\n",
      "    (PP (P with) (NP (Det a) (N telescope))))) (p=4.26747e-07)\n",
      "(S\n",
      "  (NP (Det the) (N man))\n",
      "  (VP\n",
      "    (V saw)\n",
      "    (NP (Det a) (N dog))\n",
      "    (PP\n",
      "      (P in)\n",
      "      (NP\n",
      "        (Det the)\n",
      "        (N park)\n",
      "        (PP (P with) (NP (Det a) (N telescope))))))) (p=4.26747e-07)\n",
      "(S\n",
      "  (NP (Det the) (N man))\n",
      "  (VP\n",
      "    (V saw)\n",
      "    (NP\n",
      "      (Det a)\n",
      "      (N dog)\n",
      "      (PP\n",
      "        (P in)\n",
      "        (NP\n",
      "          (Det the)\n",
      "          (N park)\n",
      "          (PP (P with) (NP (Det a) (N telescope)))))))) (p=3.65783e-07)\n"
     ]
    }
   ],
   "source": [
    "parser1 = pchart.InsideChartParser(pcfg_grammar1)\n",
    "\n",
    "#print all possible trees, showing probability of each parse\n",
    "for t in parser1.parse(str1.split()):\n",
    "     print(t)"
   ]
  },
  {
   "cell_type": "code",
   "execution_count": null,
   "metadata": {},
   "outputs": [],
   "source": []
  }
 ],
 "metadata": {
  "kernelspec": {
   "display_name": "Python 3",
   "language": "python",
   "name": "python3"
  },
  "language_info": {
   "codemirror_mode": {
    "name": "ipython",
    "version": 3
   },
   "file_extension": ".py",
   "mimetype": "text/x-python",
   "name": "python",
   "nbconvert_exporter": "python",
   "pygments_lexer": "ipython3",
   "version": "3.7.3"
  }
 },
 "nbformat": 4,
 "nbformat_minor": 2
}
